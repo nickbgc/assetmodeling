{
 "cells": [
  {
   "cell_type": "code",
   "execution_count": 35,
   "id": "8cfe773d-2d6e-499a-a240-05e515c84ddf",
   "metadata": {},
   "outputs": [],
   "source": [
    "##Cell 1\n",
    "\n",
    "import pandas as pd\n",
    "from datetime import time\n",
    "import datetime\n",
    "import vectorbt as vbt\n",
    "import os\n",
    "import numpy as np\n",
    "import requests\n",
    "import json\n",
    "from binance import Client\n",
    "import talib"
   ]
  },
  {
   "cell_type": "code",
   "execution_count": 70,
   "id": "994fe9bd-11b8-40a8-bb6b-c4b4421896b3",
   "metadata": {},
   "outputs": [],
   "source": [
    "##Cell 2\n",
    "\n",
    "def return_asset(name='BTCUSDT',start = '01/01/2016',stop = '12/31/2999', interval='2HR'): \n",
    "    coin = name\n",
    "    API_KEY = 'API KEY HERE'\n",
    "    API_SECRET = 'API SECRET HERE'\n",
    "\n",
    "    client = Client(API_KEY, API_SECRET)\n",
    "    coin_currency = coin.upper()\n",
    "    if interval=='1HR':\n",
    "        klines = client.get_historical_klines(coin_currency, Client.KLINE_INTERVAL_1HOUR, start, stop)\n",
    "    \n",
    "    if interval=='2HR':\n",
    "        klines = client.get_historical_klines(coin_currency, Client.KLINE_INTERVAL_2HOUR, start, stop)\n",
    "        \n",
    "    if interval=='4HR':\n",
    "        klines = client.get_historical_klines(coin_currency, Client.KLINE_INTERVAL_4HOUR, start, stop)\n",
    "        \n",
    "    if interval=='8HR':\n",
    "        klines = client.get_historical_klines(coin_currency, Client.KLINE_INTERVAL_8HOUR, start, stop)\n",
    "        \n",
    "    if interval=='12HR':\n",
    "        klines = client.get_historical_klines(coin_currency, Client.KLINE_INTERVAL_12HOUR, start, stop)\n",
    "        \n",
    "    if interval=='1D':\n",
    "        klines = client.get_historical_klines(coin_currency, Client.KLINE_INTERVAL_1DAY, start, stop)\n",
    "        \n",
    "    if interval=='3D':\n",
    "        klines = client.get_historical_klines(coin_currency, Client.KLINE_INTERVAL_3DAY, start, stop)\n",
    "        \n",
    "    if interval=='1WK':\n",
    "        klines = client.get_historical_klines(coin_currency, Client.KLINE_INTERVAL_1WEEK, start, stop)\n",
    "        \n",
    "    if interval=='1MO':\n",
    "        klines = client.get_historical_klines(coin_currency, Client.KLINE_INTERVAL_1MONTH, start, stop)\n",
    "        \n",
    "##build out rest of time dictionary***\n",
    "\n",
    "    df = pd.DataFrame(klines, columns=['openTime', 'open', 'high', 'low', 'close', 'volume', 'closeTime', 'quoteAssetVolume',\n",
    "                                        'numberOfTrades', 'takerBuyBaseAssetVolume', 'takerBuyQuoteAssetVolume', 'ignore'])\n",
    "    df['date'] = pd.to_datetime(df['closeTime'], unit='ms')\n",
    "    df['date'] = pd.to_datetime(df['date'], utc=True)\n",
    "    df.set_index('date', inplace=True)\n",
    "    df = df[['open','high','low','close','volume']]\n",
    "    df.rename(columns={'open':'Open', 'high':'High', 'low':'Low', 'volume':'Volume', 'close':'Close'}, inplace=True)\n",
    "    df = df.astype(float)\n",
    "    return df\n",
    "\n",
    "    ## ohlcv_wbuf = df.copy()\n",
    "    ## print(ohlcv_wbuf.shape)\n",
    "    ## print(ohlcv_wbuf.columns)"
   ]
  },
  {
   "cell_type": "code",
   "execution_count": 71,
   "id": "0b05e69a-e2d7-434d-a6f8-8e7f56823efe",
   "metadata": {},
   "outputs": [],
   "source": [
    "## Cell 3\n",
    "\n",
    "df = return_asset('BTCUSDT', start='01/01/2016', stop='01/01/2999', interval='2HR')"
   ]
  },
  {
   "cell_type": "code",
   "execution_count": 72,
   "id": "de38960e-a4b9-493a-9689-d7b08e8b0733",
   "metadata": {},
   "outputs": [],
   "source": [
    "## Cell 4 (keep commented out while using Jupyter Notebooks please)\n",
    "\n",
    "## import talib"
   ]
  },
  {
   "cell_type": "code",
   "execution_count": 73,
   "id": "2642d3b2-64ec-4ddd-9109-f2bf2e80f0aa",
   "metadata": {},
   "outputs": [
    {
     "data": {
      "text/html": [
       "<div>\n",
       "<style scoped>\n",
       "    .dataframe tbody tr th:only-of-type {\n",
       "        vertical-align: middle;\n",
       "    }\n",
       "\n",
       "    .dataframe tbody tr th {\n",
       "        vertical-align: top;\n",
       "    }\n",
       "\n",
       "    .dataframe thead th {\n",
       "        text-align: right;\n",
       "    }\n",
       "</style>\n",
       "<table border=\"1\" class=\"dataframe\">\n",
       "  <thead>\n",
       "    <tr style=\"text-align: right;\">\n",
       "      <th></th>\n",
       "      <th>Open</th>\n",
       "      <th>High</th>\n",
       "      <th>Low</th>\n",
       "      <th>Close</th>\n",
       "      <th>Volume</th>\n",
       "    </tr>\n",
       "    <tr>\n",
       "      <th>date</th>\n",
       "      <th></th>\n",
       "      <th></th>\n",
       "      <th></th>\n",
       "      <th></th>\n",
       "      <th></th>\n",
       "    </tr>\n",
       "  </thead>\n",
       "  <tbody>\n",
       "    <tr>\n",
       "      <th>2022-01-26 23:59:59.999000+00:00</th>\n",
       "      <td>36327.35</td>\n",
       "      <td>36886.68</td>\n",
       "      <td>36234.63</td>\n",
       "      <td>36809.34</td>\n",
       "      <td>3736.29647</td>\n",
       "    </tr>\n",
       "    <tr>\n",
       "      <th>2022-01-27 01:59:59.999000+00:00</th>\n",
       "      <td>36807.24</td>\n",
       "      <td>37080.00</td>\n",
       "      <td>35833.56</td>\n",
       "      <td>35882.21</td>\n",
       "      <td>5450.31865</td>\n",
       "    </tr>\n",
       "    <tr>\n",
       "      <th>2022-01-27 03:59:59.999000+00:00</th>\n",
       "      <td>35882.21</td>\n",
       "      <td>36243.32</td>\n",
       "      <td>35507.01</td>\n",
       "      <td>35745.70</td>\n",
       "      <td>5326.26834</td>\n",
       "    </tr>\n",
       "    <tr>\n",
       "      <th>2022-01-27 05:59:59.999000+00:00</th>\n",
       "      <td>35745.70</td>\n",
       "      <td>36091.00</td>\n",
       "      <td>35692.61</td>\n",
       "      <td>35973.39</td>\n",
       "      <td>5108.72430</td>\n",
       "    </tr>\n",
       "    <tr>\n",
       "      <th>2022-01-27 07:59:59.999000+00:00</th>\n",
       "      <td>35977.88</td>\n",
       "      <td>36303.80</td>\n",
       "      <td>35818.77</td>\n",
       "      <td>36173.87</td>\n",
       "      <td>3732.48585</td>\n",
       "    </tr>\n",
       "    <tr>\n",
       "      <th>2022-01-27 09:59:59.999000+00:00</th>\n",
       "      <td>36177.17</td>\n",
       "      <td>36611.21</td>\n",
       "      <td>35815.80</td>\n",
       "      <td>36525.85</td>\n",
       "      <td>4407.07968</td>\n",
       "    </tr>\n",
       "    <tr>\n",
       "      <th>2022-01-27 11:59:59.999000+00:00</th>\n",
       "      <td>36525.84</td>\n",
       "      <td>36781.79</td>\n",
       "      <td>36290.01</td>\n",
       "      <td>36679.98</td>\n",
       "      <td>3092.71753</td>\n",
       "    </tr>\n",
       "    <tr>\n",
       "      <th>2022-01-27 13:59:59.999000+00:00</th>\n",
       "      <td>36679.98</td>\n",
       "      <td>36849.37</td>\n",
       "      <td>36423.46</td>\n",
       "      <td>36830.89</td>\n",
       "      <td>3698.91579</td>\n",
       "    </tr>\n",
       "    <tr>\n",
       "      <th>2022-01-27 15:59:59.999000+00:00</th>\n",
       "      <td>36830.88</td>\n",
       "      <td>37199.00</td>\n",
       "      <td>36510.00</td>\n",
       "      <td>36639.43</td>\n",
       "      <td>4966.14545</td>\n",
       "    </tr>\n",
       "    <tr>\n",
       "      <th>2022-01-27 17:59:59.999000+00:00</th>\n",
       "      <td>36639.43</td>\n",
       "      <td>36787.77</td>\n",
       "      <td>36327.13</td>\n",
       "      <td>36686.26</td>\n",
       "      <td>1450.05531</td>\n",
       "    </tr>\n",
       "  </tbody>\n",
       "</table>\n",
       "</div>"
      ],
      "text/plain": [
       "                                      Open      High       Low     Close  \\\n",
       "date                                                                       \n",
       "2022-01-26 23:59:59.999000+00:00  36327.35  36886.68  36234.63  36809.34   \n",
       "2022-01-27 01:59:59.999000+00:00  36807.24  37080.00  35833.56  35882.21   \n",
       "2022-01-27 03:59:59.999000+00:00  35882.21  36243.32  35507.01  35745.70   \n",
       "2022-01-27 05:59:59.999000+00:00  35745.70  36091.00  35692.61  35973.39   \n",
       "2022-01-27 07:59:59.999000+00:00  35977.88  36303.80  35818.77  36173.87   \n",
       "2022-01-27 09:59:59.999000+00:00  36177.17  36611.21  35815.80  36525.85   \n",
       "2022-01-27 11:59:59.999000+00:00  36525.84  36781.79  36290.01  36679.98   \n",
       "2022-01-27 13:59:59.999000+00:00  36679.98  36849.37  36423.46  36830.89   \n",
       "2022-01-27 15:59:59.999000+00:00  36830.88  37199.00  36510.00  36639.43   \n",
       "2022-01-27 17:59:59.999000+00:00  36639.43  36787.77  36327.13  36686.26   \n",
       "\n",
       "                                      Volume  \n",
       "date                                          \n",
       "2022-01-26 23:59:59.999000+00:00  3736.29647  \n",
       "2022-01-27 01:59:59.999000+00:00  5450.31865  \n",
       "2022-01-27 03:59:59.999000+00:00  5326.26834  \n",
       "2022-01-27 05:59:59.999000+00:00  5108.72430  \n",
       "2022-01-27 07:59:59.999000+00:00  3732.48585  \n",
       "2022-01-27 09:59:59.999000+00:00  4407.07968  \n",
       "2022-01-27 11:59:59.999000+00:00  3092.71753  \n",
       "2022-01-27 13:59:59.999000+00:00  3698.91579  \n",
       "2022-01-27 15:59:59.999000+00:00  4966.14545  \n",
       "2022-01-27 17:59:59.999000+00:00  1450.05531  "
      ]
     },
     "execution_count": 73,
     "metadata": {},
     "output_type": "execute_result"
    }
   ],
   "source": [
    "## Cell 5 (sorts OHLCV data in a table for specified asset in cell 3)\n",
    "## use command 'head' for top of list, use command 'tail' for bottom of list\n",
    "\n",
    "df.tail(10)"
   ]
  },
  {
   "cell_type": "code",
   "execution_count": 74,
   "id": "583a4e3a-33d2-45de-aafb-e043c869a295",
   "metadata": {},
   "outputs": [],
   "source": [
    "## Cell 6 (Trade Settings- Starting Capital, Trade Fees, Slippage)\n",
    "\n",
    "vbt.settings.portfolio['init_cash'] = 1000000.00  # $1mm Portfolio\n",
    "vbt.settings.portfolio['fees'] = 0.0025  # 0.25%\n",
    "vbt.settings.portfolio['slippage'] = 0.0025  # 0.25%"
   ]
  },
  {
   "cell_type": "code",
   "execution_count": 75,
   "id": "35afc5c7-4cd8-479c-855b-7cd35685b1f4",
   "metadata": {},
   "outputs": [
    {
     "data": {
      "application/vnd.jupyter.widget-view+json": {
       "model_id": "21e56dd1ef284557a5b1a2c0a90c8381",
       "version_major": 2,
       "version_minor": 0
      },
      "text/plain": [
       "FigureWidget({\n",
       "    'data': [{'close': array([ 4315.32,  4349.99,  4444.  , ..., 36830.89, 36639.43, 36686.26])…"
      ]
     },
     "metadata": {},
     "output_type": "display_data"
    }
   ],
   "source": [
    "## Cell 7 (Open, High, Low, Close, Volume for an asset plotted in chart format)\n",
    "\n",
    "df.vbt.ohlcv.plot()"
   ]
  },
  {
   "cell_type": "code",
   "execution_count": 78,
   "id": "fc59618f-7a8d-441a-b317-3f0c2b8e951b",
   "metadata": {},
   "outputs": [],
   "source": [
    "## Cell 8 (Trading Dictionary)\n",
    "df['MA8'] = talib.MA(df['Close'],8)\n",
    "df['MA10'] = talib.MA(df['Close'],10)\n",
    "df['MA20'] = talib.MA(df['Close'],20)\n",
    "df['MA30'] = talib.MA(df['Close'],30)\n",
    "df['MA34'] = talib.MA(df['Close'],34)\n",
    "df['MA40'] = talib.MA(df['Close'],40)\n",
    "df['MA50'] = talib.MA(df['Close'],50)\n",
    "df['MA60'] = talib.MA(df['Close'],60)\n",
    "df['MA70'] = talib.MA(df['Close'],70)\n",
    "df['MA80'] = talib.MA(df['Close'],80)\n",
    "df['MA90'] = talib.MA(df['Close'],90)\n",
    "df['MA100'] = talib.MA(df['Close'],100)\n",
    "df['MA110'] = talib.MA(df['Close'],110)\n",
    "df['MA120'] = talib.MA(df['Close'],120)\n",
    "df['MA130'] = talib.MA(df['Close'],130)\n",
    "df['MA140'] = talib.MA(df['Close'],140)\n",
    "df['MA150'] = talib.MA(df['Close'],150)\n",
    "df['MA160'] = talib.MA(df['Close'],160)\n",
    "df['MA170'] = talib.MA(df['Close'],170)\n",
    "df['MA180'] = talib.MA(df['Close'],180)\n",
    "df['MA190'] = talib.MA(df['Close'],190)\n",
    "df['MA200'] = talib.MA(df['Close'],200)\n",
    "df['MA334'] = talib.MA(df['Close'],200)\n",
    "df['MA355'] = talib.MA(df['Close'],355)\n"
   ]
  },
  {
   "cell_type": "code",
   "execution_count": 79,
   "id": "4fb36733-706b-49d8-a731-fb4d133b4b19",
   "metadata": {},
   "outputs": [],
   "source": [
    "## Cell 8 New Test Strategy Cell\n",
    "# df"
   ]
  },
  {
   "cell_type": "code",
   "execution_count": 80,
   "id": "b2b76364-3bcf-4ed9-8fe7-6593a1c0b02e",
   "metadata": {},
   "outputs": [
    {
     "data": {
      "text/plain": [
       "<AxesSubplot:xlabel='date'>"
      ]
     },
     "execution_count": 80,
     "metadata": {},
     "output_type": "execute_result"
    },
    {
     "data": {
      "image/png": "[encoded data removed]",
      "text/plain": [
       "<Figure size 864x864 with 1 Axes>"
      ]
     },
     "metadata": {
      "needs_background": "light"
     },
     "output_type": "display_data"
    }
   ],
   "source": [
    "## Cell 9 (Strategy Plot Basic TA)\n",
    "\n",
    "df[['Close', 'MA334', 'MA355' ]].plot(figsize=(12,12))"
   ]
  },
  {
   "cell_type": "code",
   "execution_count": 81,
   "id": "ef09fc60-8d3f-4bcb-8140-d2068c5b92e9",
   "metadata": {},
   "outputs": [],
   "source": [
    "## Cell 10 (Entries and Exits)\n",
    "## Moving Average Crossover code pair\n",
    "\n",
    "exits = (df['MA334'] < df['MA355']) & (df['MA334'].shift() >= df['MA355'].shift())  \n",
    "entries = (df['MA334'] > df['MA355']) & (df['MA334'].shift() <= df['MA355'].shift())"
   ]
  },
  {
   "cell_type": "code",
   "execution_count": null,
   "id": "55538152-dfeb-4d95-a681-b8d2b68c65a1",
   "metadata": {},
   "outputs": [],
   "source": [
    "## Cell 11 (Trade Signal Statistics)\n",
    "\n",
    "print(entries.vbt.signals.stats(settings=dict(other=exits)))"
   ]
  },
  {
   "cell_type": "code",
   "execution_count": 83,
   "id": "a7b2a87a-303e-4b58-a8c7-aef3a1b782ae",
   "metadata": {},
   "outputs": [
    {
     "name": "stderr",
     "output_type": "stream",
     "text": [
      "/Users/nickharmon/opt/anaconda3/lib/python3.9/site-packages/vectorbt/generic/stats_builder.py:396: UserWarning:\n",
      "\n",
      "Metric 'sharpe_ratio' requires frequency to be set\n",
      "\n",
      "/Users/nickharmon/opt/anaconda3/lib/python3.9/site-packages/vectorbt/generic/stats_builder.py:396: UserWarning:\n",
      "\n",
      "Metric 'calmar_ratio' requires frequency to be set\n",
      "\n",
      "/Users/nickharmon/opt/anaconda3/lib/python3.9/site-packages/vectorbt/generic/stats_builder.py:396: UserWarning:\n",
      "\n",
      "Metric 'omega_ratio' requires frequency to be set\n",
      "\n",
      "/Users/nickharmon/opt/anaconda3/lib/python3.9/site-packages/vectorbt/generic/stats_builder.py:396: UserWarning:\n",
      "\n",
      "Metric 'sortino_ratio' requires frequency to be set\n",
      "\n"
     ]
    },
    {
     "name": "stdout",
     "output_type": "stream",
     "text": [
      "Start                         2017-08-17 05:59:59.999000+00:00\n",
      "End                           2022-01-27 17:59:59.999000+00:00\n",
      "Period                                                   19443\n",
      "Start Value                                          1000000.0\n",
      "End Value                                      19119237.797054\n",
      "Total Return [%]                                    1811.92378\n",
      "Benchmark Return [%]                                750.139966\n",
      "Max Gross Exposure [%]                                   100.0\n",
      "Total Fees Paid                                 1084534.907551\n",
      "Max Drawdown [%]                                     56.780965\n",
      "Max Drawdown Duration                                   6123.0\n",
      "Total Trades                                                27\n",
      "Total Closed Trades                                         27\n",
      "Total Open Trades                                            0\n",
      "Open Trade PnL                                             0.0\n",
      "Win Rate [%]                                         44.444444\n",
      "Best Trade [%]                                       216.30021\n",
      "Worst Trade [%]                                      -18.08841\n",
      "Avg Winning Trade [%]                                59.221154\n",
      "Avg Losing Trade [%]                                   -8.9289\n",
      "Avg Winning Trade Duration                              687.75\n",
      "Avg Losing Trade Duration                           155.133333\n",
      "Profit Factor                                         2.594843\n",
      "Expectancy                                       671082.881372\n",
      "dtype: object\n"
     ]
    }
   ],
   "source": [
    "## Cell 12 (Portfolio results from backtesting strategy)\n",
    "\n",
    "dmac_pf = vbt.Portfolio.from_signals(df['Close'], entries, exits)\n",
    "print(dmac_pf.stats())"
   ]
  },
  {
   "cell_type": "code",
   "execution_count": 84,
   "id": "02f22d19-037c-4606-a081-b61dbfb51a19",
   "metadata": {},
   "outputs": [
    {
     "data": {
      "application/vnd.jupyter.widget-view+json": {
       "model_id": "d3e32670b8b0400ca49f59fe6f3b2a63",
       "version_major": 2,
       "version_minor": 0
      },
      "text/plain": [
       "FigureWidget({\n",
       "    'data': [{'line': {'color': '#1f77b4'},\n",
       "              'name': 'Close',\n",
       "              'showl…"
      ]
     },
     "metadata": {},
     "output_type": "display_data"
    }
   ],
   "source": [
    "##Cell 13 (Plot and graph trade strategies)\n",
    "\n",
    "# print(dmac_pf.trades.records)\n",
    "\n",
    "dmac_pf.trades.plot()#.show_svg()"
   ]
  },
  {
   "cell_type": "code",
   "execution_count": null,
   "id": "8fa9479f-ee63-4f7f-a134-fcf64fdb01b1",
   "metadata": {},
   "outputs": [],
   "source": []
  },
  {
   "cell_type": "code",
   "execution_count": null,
   "id": "44c45e90-6df6-4289-9c49-be87d6c2d39b",
   "metadata": {},
   "outputs": [],
   "source": []
  }
 ],
 "metadata": {
  "kernelspec": {
   "display_name": "Python 3.9.7 64-bit ('base': conda)",
   "language": "python",
   "name": "python397jvsc74a57bd0b983cee88a5f5b781842dab25cac97ea737d167342329ba8945dcd9876040f99"
  },
  "language_info": {
   "codemirror_mode": {
    "name": "ipython",
    "version": 3
   },
   "file_extension": ".py",
   "mimetype": "text/x-python",
   "name": "python",
   "nbconvert_exporter": "python",
   "pygments_lexer": "ipython3",
   "version": "3.9.7"
  }
 },
 "nbformat": 4,
 "nbformat_minor": 5
}
